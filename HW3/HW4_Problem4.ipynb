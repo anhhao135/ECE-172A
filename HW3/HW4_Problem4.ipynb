{
 "cells": [
  {
   "cell_type": "code",
   "execution_count": 101,
   "metadata": {},
   "outputs": [
    {
     "name": "stdout",
     "output_type": "stream",
     "text": [
      "[PhysicalDevice(name='/physical_device:GPU:0', device_type='GPU')]\n"
     ]
    }
   ],
   "source": [
    "import os\n",
    "import pandas as pd\n",
    "import cv2\n",
    "import keras\n",
    "import numpy as np\n",
    "from keras.layers import Dense, Dropout, Flatten, Input\n",
    "from keras.layers import Conv2D, MaxPooling2D\n",
    "from keras.layers import BatchNormalization\n",
    "from tensorflow.keras.optimizers import Adam\n",
    "from keras.models import Sequential\n",
    "from tensorflow.keras.utils import to_categorical\n",
    "import tensorflow as tf\n",
    "print(tf.config.list_physical_devices('GPU'))\n",
    "data_dir = 'GTSRB-training_fixed\\GTSRB\\Training'\n",
    "from matplotlib import image\n",
    "from matplotlib import pyplot as plt"
   ]
  },
  {
   "cell_type": "code",
   "execution_count": 102,
   "metadata": {},
   "outputs": [],
   "source": [
    "def preprocess(img):\n",
    "    return cv2.resize(img, (64, 64), interpolation = cv2.INTER_AREA)"
   ]
  },
  {
   "cell_type": "code",
   "execution_count": 111,
   "metadata": {},
   "outputs": [],
   "source": [
    "list_images = []\n",
    "output = []\n",
    "\n",
    "for dir in os.listdir(data_dir):\n",
    "    i = 0\n",
    "    if dir == '.DS_Store' :\n",
    "        continue\n",
    "    inner_dir = os.path.join(data_dir, dir)\n",
    "    csv_file = pd.read_csv(os.path.join(inner_dir,\"GT-\" + dir + '.csv'), sep=';')\n",
    "    for row in csv_file.iterrows():\n",
    "        if i < 100:\n",
    "            img_path = os.path.join(inner_dir, row[1].Filename)\n",
    "            img = cv2.imread(img_path)\n",
    "            img = img[row[1]['Roi.X1']:row[1]['Roi.X2'],row[1]['Roi.Y1']:row[1]['Roi.Y2'],:]\n",
    "            img = preprocess(img)\n",
    "            list_images.append(img)\n",
    "            output.append(row[1].ClassId)\n",
    "        i += 1"
   ]
  },
  {
   "cell_type": "code",
   "execution_count": 112,
   "metadata": {},
   "outputs": [],
   "source": [
    "input_array = np.stack(list_images)\n",
    "train_y = to_categorical(output)\n",
    "\n",
    "randomize = np.arange(len(input_array))\n",
    "np.random.shuffle(randomize)\n",
    "\n",
    "x = input_array[randomize]\n",
    "y = train_y[randomize]"
   ]
  },
  {
   "cell_type": "code",
   "execution_count": 113,
   "metadata": {},
   "outputs": [],
   "source": [
    "split_size = int(x.shape[0]*0.6)\n",
    "train_x, val_x = x[:split_size], x[split_size:]\n",
    "train1_y, val_y = y[:split_size], y[split_size:]\n",
    "\n",
    "split_size = int(val_x.shape[0]*0.5)\n",
    "val_x, test_x = val_x[:split_size], val_x[split_size:]\n",
    "val_y, test_y = val_y[:split_size], val_y[split_size:]"
   ]
  },
  {
   "cell_type": "code",
   "execution_count": 116,
   "metadata": {
    "scrolled": true
   },
   "outputs": [
    {
     "name": "stdout",
     "output_type": "stream",
     "text": [
      "Epoch 1/10\n",
      "162/162 [==============================] - 3s 12ms/step - loss: 3.6697 - accuracy: 0.0899 - val_loss: 3.4118 - val_accuracy: 0.1814\n",
      "Epoch 2/10\n",
      "162/162 [==============================] - 2s 10ms/step - loss: 2.7883 - accuracy: 0.2771 - val_loss: 2.0627 - val_accuracy: 0.4837\n",
      "Epoch 3/10\n",
      "162/162 [==============================] - 2s 10ms/step - loss: 1.9404 - accuracy: 0.4636 - val_loss: 1.1301 - val_accuracy: 0.7116\n",
      "Epoch 4/10\n",
      "162/162 [==============================] - 2s 10ms/step - loss: 1.3160 - accuracy: 0.6147 - val_loss: 0.6325 - val_accuracy: 0.8349\n",
      "Epoch 5/10\n",
      "162/162 [==============================] - 2s 10ms/step - loss: 0.9049 - accuracy: 0.7357 - val_loss: 0.4121 - val_accuracy: 0.9000\n",
      "Epoch 6/10\n",
      "162/162 [==============================] - 2s 10ms/step - loss: 0.6475 - accuracy: 0.8089 - val_loss: 0.2986 - val_accuracy: 0.9244\n",
      "Epoch 7/10\n",
      "162/162 [==============================] - 2s 10ms/step - loss: 0.4668 - accuracy: 0.8574 - val_loss: 0.2297 - val_accuracy: 0.9419\n",
      "Epoch 8/10\n",
      "162/162 [==============================] - 2s 10ms/step - loss: 0.3510 - accuracy: 0.8891 - val_loss: 0.2009 - val_accuracy: 0.9547\n",
      "Epoch 9/10\n",
      "162/162 [==============================] - 2s 10ms/step - loss: 0.2644 - accuracy: 0.9248 - val_loss: 0.1877 - val_accuracy: 0.9488\n",
      "Epoch 10/10\n",
      "162/162 [==============================] - 2s 10ms/step - loss: 0.1986 - accuracy: 0.9453 - val_loss: 0.1429 - val_accuracy: 0.9640\n"
     ]
    }
   ],
   "source": [
    "epochs = 10\n",
    "batch_size = 16\n",
    "\n",
    "input_shape = Input(shape=(32, 32,3))\n",
    "\n",
    "model = Sequential([\n",
    "    Conv2D(16, (3, 3), activation='relu', input_shape=(64,64,3), padding='same'),\n",
    "    BatchNormalization(),\n",
    "    Conv2D(16, (3, 3), activation='relu', padding='same'),\n",
    "    BatchNormalization(),\n",
    "    MaxPooling2D(pool_size=(2, 2)),\n",
    "    Dropout(0.2),\n",
    "    \n",
    "    Conv2D(32, (3, 3), activation='relu', padding='same'),\n",
    "    BatchNormalization(),\n",
    "    \n",
    "    Conv2D(32, (3, 3), activation='relu', padding='same'),\n",
    "    BatchNormalization(),\n",
    "    MaxPooling2D(pool_size=(2, 2)),\n",
    "    Dropout(0.2),\n",
    "    \n",
    "    Conv2D(64, (3, 3), activation='relu', padding='same'),\n",
    "    BatchNormalization(),\n",
    "\n",
    "    Conv2D(64, (3, 3), activation='relu', padding='same'),\n",
    "    BatchNormalization(),\n",
    "    MaxPooling2D(pool_size=(2, 2)),\n",
    "    Dropout(0.2),\n",
    "    \n",
    "    Flatten(),\n",
    "    Dense(units=2048, activation='relu'),\n",
    "    Dropout(0.2),\n",
    "    Dense(units=1024, activation='relu'),\n",
    "    Dropout(0.2),\n",
    "    Dense(units=128, activation='relu'),\n",
    "    Dropout(0.2),\n",
    "    Dense(units=43, input_dim=2048, activation='softmax'),\n",
    "])\n",
    "\n",
    "model.compile(loss='categorical_crossentropy', optimizer=Adam(lr=1e-4), metrics=['accuracy'])\n",
    "trained_model_conv = model.fit(train_x.reshape(-1,64,64,3), train1_y, epochs=epochs, batch_size=batch_size, validation_data=(val_x, val_y))"
   ]
  },
  {
   "cell_type": "code",
   "execution_count": 117,
   "metadata": {},
   "outputs": [
    {
     "name": "stdout",
     "output_type": "stream",
     "text": [
      "27/27 [==============================] - 0s 13ms/step - loss: 0.1157 - accuracy: 0.9628\n"
     ]
    },
    {
     "data": {
      "text/plain": [
       "[0.1157301738858223, 0.9627906680107117]"
      ]
     },
     "execution_count": 117,
     "metadata": {},
     "output_type": "execute_result"
    }
   ],
   "source": [
    "model.evaluate(test_x, test_y)"
   ]
  },
  {
   "cell_type": "code",
   "execution_count": null,
   "metadata": {},
   "outputs": [],
   "source": []
  },
  {
   "cell_type": "code",
   "execution_count": null,
   "metadata": {},
   "outputs": [],
   "source": []
  }
 ],
 "metadata": {
  "kernelspec": {
   "display_name": "Python 3 (ipykernel)",
   "language": "python",
   "name": "python3"
  },
  "language_info": {
   "codemirror_mode": {
    "name": "ipython",
    "version": 3
   },
   "file_extension": ".py",
   "mimetype": "text/x-python",
   "name": "python",
   "nbconvert_exporter": "python",
   "pygments_lexer": "ipython3",
   "version": "3.9.7"
  }
 },
 "nbformat": 4,
 "nbformat_minor": 4
}
